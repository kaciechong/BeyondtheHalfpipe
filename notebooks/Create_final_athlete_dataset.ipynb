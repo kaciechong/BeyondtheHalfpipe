{
 "cells": [
  {
   "cell_type": "code",
   "execution_count": null,
   "id": "c4168345-2034-4019-9cf2-5e6f4f4b6209",
   "metadata": {},
   "outputs": [],
   "source": [
    "#### Import libraries:\n",
    "\n",
    "import pandas as pd"
   ]
  },
  {
   "cell_type": "code",
   "execution_count": null,
   "id": "db808566-54ad-4685-9370-e02d7d5edcd9",
   "metadata": {},
   "outputs": [],
   "source": [
    "#### Create a dataset with all needed information for athlete analysis:"
   ]
  },
  {
   "cell_type": "code",
   "execution_count": null,
   "id": "c93755d7-d4d6-4f0f-a271-41caef6c6415",
   "metadata": {},
   "outputs": [],
   "source": [
    "instagram_df = pd.read_csv('instagram_data.csv')\n",
    "\n",
    "# Load data from csv files\n",
    "instagram_df = pd.read_csv('instagram_data.csv')\n",
    "competitor_df = pd.read_csv('top_5_halfpipe_us_skiers.csv')\n",
    "\n",
    "# Merge IG data with competitor data \n",
    "merged_df = pd.merge(instagram_df, competitor_df, on='CompetitorID')\n",
    "\n",
    "# Load sponsorship data from csv file to merge to existing merged dataset\n",
    "sponsorship_df = pd.read_csv('sponsorship.csv')\n",
    "merged_df = pd.merge(sponsorship_df, merged_df, on='CompetitorID')\n",
    "\n",
    "# Drop the 'Sponsor Title_y' column from the merged DataFrame to keep only the 'x' version (the relevant data)\n",
    "merged_df.drop(columns=['Sponsor Title_y'], inplace=True) \n",
    "\n",
    "# Sort the DataFrame by 'Gender' and 'HPpos' (Halfpipe position) and reset index\n",
    "sorted_df = merged_df.sort_values(by=['Gender', 'HPpos'])\n",
    "sorted_df.reset_index(drop=True, inplace=True)\n",
    "\n",
    "# Count the number of sponsors for each competitor (if no sponsor, count = 0)\n",
    "sorted_df['SponsorCount'] = sorted_df['Sponsor Title_x'].apply(lambda x: len(x.split(',')) if x != 'No Sponsor' else 0)\n",
    "\n",
    "# Rename 'Sponsor Title_x' to 'Sponsors' \n",
    "sorted_df.rename(columns={\n",
    "    'Sponsor Title_x': 'Sponsors',\n",
    "}, inplace=True)\n",
    "\n",
    "# Reindex the DataFrame to rearrange columns in a specific order for final output\n",
    "sorted_df = sorted_df.reindex(columns=['CompetitorID', 'Competitorname', 'HPpos', 'HPpoints', 'Nationcode', 'Gender', 'InstagramHandle', \n",
    "                                       'FollowerCount', 'DateChecked', 'Sponsors', 'SponsorCount', 'Skiclub'])\n",
    "\n",
    "# Save the final sorted DataFrame to CSV file (without index)\n",
    "sorted_df.to_csv('final.csv', index=False)\n",
    "\n",
    "print(\"Final dataset created.\")"
   ]
  }
 ],
 "metadata": {
  "kernelspec": {
   "display_name": "Python 3 (ipykernel)",
   "language": "python",
   "name": "python3"
  },
  "language_info": {
   "codemirror_mode": {
    "name": "ipython",
    "version": 3
   },
   "file_extension": ".py",
   "mimetype": "text/x-python",
   "name": "python",
   "nbconvert_exporter": "python",
   "pygments_lexer": "ipython3",
   "version": "3.12.6"
  }
 },
 "nbformat": 4,
 "nbformat_minor": 5
}
