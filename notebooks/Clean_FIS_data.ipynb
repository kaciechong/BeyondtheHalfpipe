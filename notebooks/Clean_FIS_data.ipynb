{
 "cells": [
  {
   "cell_type": "code",
   "execution_count": 6,
   "id": "4a6aeae9-ab4d-43e8-a69c-8de7523598bb",
   "metadata": {},
   "outputs": [],
   "source": [
    "#### Import libraries:\n",
    "\n",
    "import pandas as pd"
   ]
  },
  {
   "cell_type": "code",
   "execution_count": null,
   "id": "fa846a0d-ded8-47db-8a86-218928d1750a",
   "metadata": {},
   "outputs": [],
   "source": [
    "#### Create a dataset of top 5 US halfpipe skiers for each gender (cleaning FIS data):\n",
    "\n",
    "# Load FIS data (CSV file)\n",
    "fis_data = pd.read_csv('path/to/fis_data.csv')\n",
    "\n",
    "# Select only the relevant columns\n",
    "halfpipe_data = fis_data[['Competitorid', 'Competitorname', 'Gender', 'Nationcode', 'Skiclub', 'HPpoints', 'HPpos']]\n",
    "\n",
    "# Filter for US halfpipe skiers only\n",
    "usa_skiers = halfpipe_data[halfpipe_data['Nationcode'] == 'USA']\n",
    "\n",
    "# Remove missing values from the relevant columns and rename column header\n",
    "usa_skiers = usa_skiers.dropna(subset=['Competitorid', 'Competitorname', 'Gender', 'Nationcode', 'Skiclub', 'HPpoints', 'HPpos'])\n",
    "usa_skiers.rename(columns={'Competitorid': 'CompetitorID'}, inplace=True)\n",
    "\n",
    "# View top 5 skiers for each gender, sorting by points and position\n",
    "top_male = usa_skiers[usa_skiers['Gender'] == 'M'].sort_values(by=['HPpoints', 'HPpos'], ascending=[False, True]).head(5)\n",
    "top_female = usa_skiers[usa_skiers['Gender'] == 'W'].sort_values(by=['HPpoints', 'HPpos'], ascending=[False, True]).head(5)\n",
    "\n",
    "# Combine the top male and female skiers into one DataFrame\n",
    "top_skiers = pd.concat([top_male, top_female], ignore_index=True)\n",
    "\n",
    "# Save the cleaned dataset to a new CSV file\n",
    "top_skiers.to_csv('top_5_halfpipe_us_skiers.csv', index=False)\n",
    "\n",
    "print(\"Dataset created with top 5 US halfpipe skiers for each gender.\")"
   ]
  }
 ],
 "metadata": {
  "kernelspec": {
   "display_name": "Python 3 (ipykernel)",
   "language": "python",
   "name": "python3"
  },
  "language_info": {
   "codemirror_mode": {
    "name": "ipython",
    "version": 3
   },
   "file_extension": ".py",
   "mimetype": "text/x-python",
   "name": "python",
   "nbconvert_exporter": "python",
   "pygments_lexer": "ipython3",
   "version": "3.12.6"
  }
 },
 "nbformat": 4,
 "nbformat_minor": 5
}
