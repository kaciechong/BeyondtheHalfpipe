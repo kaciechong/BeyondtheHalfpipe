{
 "cells": [
  {
   "cell_type": "code",
   "execution_count": null,
   "id": "06ca1606-a5f1-48d8-a28e-e918fbc5cc92",
   "metadata": {},
   "outputs": [],
   "source": [
    "#### Import libraries:\n",
    "\n",
    "!pip install selenium webdriver-manager\n",
    "import pandas as pd\n",
    "from selenium import webdriver\n",
    "from selenium.webdriver.chrome.service import Service\n",
    "from webdriver_manager.chrome import ChromeDriverManager\n",
    "from selenium.webdriver.common.by import By\n",
    "from selenium.webdriver.common.keys import Keys\n",
    "from datetime import datetime\n",
    "import time"
   ]
  },
  {
   "cell_type": "code",
   "execution_count": 3,
   "id": "8439edf5-a963-4fc9-aa44-9027974b59ed",
   "metadata": {},
   "outputs": [],
   "source": [
    "#### Create a dataset of top 5 skiers' Instagram following count (Webscraping Instagram data):\n",
    "\n",
    "# Set up the Chrome WebDriver\n",
    "driver = webdriver.Chrome(service=Service(ChromeDriverManager().install()))\n",
    "\n",
    "# Navigate to Instagram's login page\n",
    "driver.get(\"https://www.instagram.com\")"
   ]
  },
  {
   "cell_type": "code",
   "execution_count": 4,
   "id": "ebbd2070-ebbb-4108-a81b-9d92bbc86d87",
   "metadata": {},
   "outputs": [],
   "source": [
    "# Write your Instagram username and password\n",
    "username = \"your_username\" \n",
    "password = \"your_password\"\n",
    "\n",
    "# Log in to Instagram\n",
    "driver.find_element(By.NAME, \"username\").send_keys(username)  # Input the username\n",
    "driver.find_element(By.NAME, \"password\").send_keys(password)  # Input the password\n",
    "driver.find_element(By.NAME, \"password\").send_keys(Keys.RETURN)  # Hit the Enter key to log in"
   ]
  },
  {
   "cell_type": "code",
   "execution_count": 5,
   "id": "0d538970-28ee-4376-b4ed-7f45c1f7c156",
   "metadata": {},
   "outputs": [],
   "source": [
    "# List of competitors with their IDs and Instagram handles -- UPDATE IF NEEDED\n",
    "competitors = [\n",
    "    {'CompetitorID': 163159, 'InstagramHandle': '@alexferreiraski'},\n",
    "    {'CompetitorID': 190662, 'InstagramHandle': '@birkirving'},\n",
    "    {'CompetitorID': 186707, 'InstagramHandle': '@hunterhess10'},\n",
    "    {'CompetitorID': 169927, 'InstagramHandle': '@aaronblunck'},\n",
    "    {'CompetitorID': 236601, 'InstagramHandle': '@nickgeiser1'},\n",
    "    {'CompetitorID': 236601, 'InstagramHandle': '@hanna_faulhaber'},\n",
    "    {'CompetitorID': 213604, 'InstagramHandle': '@sveairving'},\n",
    "    {'CompetitorID': 224238, 'InstagramHandle': '@flying_riley_jacobs'},\n",
    "    {'CompetitorID': 249251, 'InstagramHandle': '@_kate_gray'},\n",
    "    {'CompetitorID': 257311, 'InstagramHandle': '@pipe_dog'}\n",
    "]"
   ]
  },
  {
   "cell_type": "code",
   "execution_count": null,
   "id": "71427353-967e-4c2b-83c2-873bc5bc43d7",
   "metadata": {},
   "outputs": [],
   "source": [
    "# Initialize an empty list to store data\n",
    "instagram_list = []  \n",
    "\n",
    "# Loop through each competitor \n",
    "for competitor in competitors:\n",
    "    handle = competitor['InstagramHandle']  # Get the competitor's Instagram handle\n",
    "    driver.get(f\"https://www.instagram.com/{handle[1:]}/\")  # Go to the competitor's profile\n",
    "\n",
    "    try:\n",
    "        # Locate the follower count element and extract its value\n",
    "        follower_count = driver.find_element(By.XPATH, \"//a[contains(@href, '/followers')]/span\").get_attribute(\"title\")\n",
    "        \n",
    "        # Append the data to the instagram_data list\n",
    "        instagram_data.append({\n",
    "            'CompetitorID': competitor['Competitorid'],  # Store competitor id\n",
    "            'InstagramHandle': handle,                     # Store Instagram handle\n",
    "            'FollowerCount': int(follower_count.replace(',', '')),  # Convert follower count to integer\n",
    "            'DateChecked': datetime.now().strftime('%Y-%m-%d')  # Store current date\n",
    "        })\n",
    "    except Exception as e:\n",
    "        # Print an error message if follower count couldn't be retrieved\n",
    "        print(f\"Failed to get follower count for {handle}: {e}\")"
   ]
  },
  {
   "cell_type": "code",
   "execution_count": null,
   "id": "c1dec2b6-3cf0-4d38-9c8d-625940bb2b96",
   "metadata": {},
   "outputs": [],
   "source": [
    "# Convert the collected data into a DataFrame\n",
    "instagram_data = pd.DataFrame(instagram_list)\n",
    "\n",
    "# Quit the WebDriver after scraping\n",
    "driver.quit()\n",
    "\n",
    "# Save the dataset to a new CSV file\n",
    "instagram_data.to_csv('instagram_data.csv', index=False)\n",
    "\n",
    "print(\"Dataset created with Instagram data.\")"
   ]
  }
 ],
 "metadata": {
  "kernelspec": {
   "display_name": "Python 3 (ipykernel)",
   "language": "python",
   "name": "python3"
  },
  "language_info": {
   "codemirror_mode": {
    "name": "ipython",
    "version": 3
   },
   "file_extension": ".py",
   "mimetype": "text/x-python",
   "name": "python",
   "nbconvert_exporter": "python",
   "pygments_lexer": "ipython3",
   "version": "3.12.6"
  }
 },
 "nbformat": 4,
 "nbformat_minor": 5
}
