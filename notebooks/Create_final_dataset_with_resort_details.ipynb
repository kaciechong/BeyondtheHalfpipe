{
 "cells": [
  {
   "cell_type": "code",
   "execution_count": 20,
   "id": "e34f2774-4833-4a8f-88c0-7f1113471051",
   "metadata": {},
   "outputs": [],
   "source": [
    "#### Import libraries:\n",
    "\n",
    "import pandas as pd\n",
    "import numpy as np "
   ]
  },
  {
   "cell_type": "code",
   "execution_count": 2,
   "id": "ae09110d-646d-4123-88bc-7fddc9525a02",
   "metadata": {},
   "outputs": [],
   "source": [
    "#### Create final dataset of US team skiers' resort details: "
   ]
  },
  {
   "cell_type": "code",
   "execution_count": 3,
   "id": "da0274af-e591-4865-aa19-1ba9abefef2f",
   "metadata": {},
   "outputs": [],
   "source": [
    "# Load first ski resorts details dataset \n",
    "Kaggle = pd.read_csv('path/to/ski_resorts_kaggle.csv')\n",
    "\n",
    "# Rename 'name' to 'Resort' for consistency in merging\n",
    "Kaggle.rename(columns={'name': 'Resort'}, inplace=True)  "
   ]
  },
  {
   "cell_type": "code",
   "execution_count": 4,
   "id": "cc6e8191-aa84-4de3-8594-9f1439dce107",
   "metadata": {},
   "outputs": [],
   "source": [
    "# Standardize resort names in Kaggle dataset to match names in other datasets\n",
    "Kaggle.loc[Kaggle['Resort'] == 'Copper Mountain Resort', 'Resort'] = 'Copper Mountain'\n",
    "Kaggle.loc[Kaggle['Resort'] == 'Killington Resort', 'Resort'] = 'Killington'\n",
    "Kaggle.loc[Kaggle['Resort'] == 'Sierra at Tahoe', 'Resort'] = 'Sierra-at-Tahoe'\n",
    "Kaggle.loc[Kaggle['Resort'] == 'Winter Park', 'Resort'] = 'Winter Park Resort'"
   ]
  },
  {
   "cell_type": "code",
   "execution_count": 5,
   "id": "e0e508b5-cbd1-41ac-9730-c0c7dc2ed696",
   "metadata": {},
   "outputs": [],
   "source": [
    "# Load pre-made dataset \n",
    "df = pd.read_csv('resortdata.csv') \n",
    "\n",
    "# Rename 'resort' to 'Resort' for consistency\n",
    "df.rename(columns={'resort': 'Resort'}, inplace=True) "
   ]
  },
  {
   "cell_type": "code",
   "execution_count": 6,
   "id": "1f2105a7-b823-40ff-9a43-2c1884942212",
   "metadata": {},
   "outputs": [],
   "source": [
    "# Standardize resort names in custom dataset to match names in Kaggle datasets\n",
    "df.loc[df['Resort'] == 'Copper Mountain Resort', 'Resort'] = 'Copper Mountain'\n",
    "df.loc[df['Resort'] == 'Killington Resort', 'Resort'] = 'Killington'\n",
    "df.loc[df['Resort'] == 'Crested Butte Mountain Resort', 'Resort'] = 'Crested Butte'\n",
    "df.loc[df['Resort'] == 'Vail Mountain, Beaver Creek Resort', 'Resort'] = 'Beaver Creek'\n",
    "df.loc[df['Resort'] == 'Mammoth Mountain Ski Area', 'Resort'] = 'Mammoth Mountain'\n",
    "df.loc[df['Resort'] == 'Telluride Ski & Golf Resort', 'Resort'] = 'Telluride'\n",
    "df.loc[df['Resort'] == 'Park City Mountain Resort', 'Resort'] = 'Park City'\n",
    "df.loc[df['Resort'] == 'Waterville Valley Resort', 'Resort'] = 'Waterville Valley'\n",
    "df.loc[df['Resort'] == 'Mt. Bachelor LLC', 'Resort'] = 'Mt. Bachelor'\n",
    "df.loc[df['Resort'] == 'Okemo Mountain Resort', 'Resort'] = 'Okemo'\n",
    "df.loc[df['Resort'] == 'Vail Mountain', 'Resort'] = 'Vail'\n",
    "df.loc[df['Resort'] == 'Squaw Valley / Alpine Meadows', 'Resort'] = 'Palisades Tahoe'"
   ]
  },
  {
   "cell_type": "code",
   "execution_count": 10,
   "id": "aa3549dc-17a6-4dc8-9ba8-6d78013fe31e",
   "metadata": {},
   "outputs": [],
   "source": [
    "# Load second ski resorts details dataset (encoding to handle special characters in file)\n",
    "Kaggle1 = pd.read_csv('path/to/ski_resorts_kaggle1.csv', encoding= 'ISO-8859-1') \n",
    "\n",
    "# Standardize resort names in the second Kaggle dataset to ensure consistency across datasets\n",
    "Kaggle1.loc[Kaggle1['Resort'] == 'Bald Mountain-Sun Valley', 'Resort'] = 'Sun Valley Resort'\n",
    "Kaggle1.loc[Kaggle1['Resort'] == 'Squaw Valley', 'Resort'] = 'Palisades Tahoe'\n",
    "Kaggle1.loc[Kaggle1['Resort'] == 'Northstar California Resort', 'Resort'] = 'Northstar California'"
   ]
  },
  {
   "cell_type": "code",
   "execution_count": 11,
   "id": "a59bcbae-bad4-4b66-9999-85310006f698",
   "metadata": {},
   "outputs": [],
   "source": [
    "# Perform an inner merge between custom dataset and first Kaggle dataset on 'Resort'\n",
    "merged_outer = pd.merge(df, Kaggle, on='Resort', how='inner')"
   ]
  },
  {
   "cell_type": "code",
   "execution_count": 12,
   "id": "5df5e549-63ce-4eb1-afdc-cb7ac0d67579",
   "metadata": {},
   "outputs": [],
   "source": [
    "# Remove row with Wisconsin for data consistency and fixing errors \n",
    "merged_outer = merged_outer[merged_outer['location_region'] != 'Wisconsin']\n",
    "\n",
    "# Remove duplicate rows by 'Resort' and keep only first occurrence\n",
    "merged_outer = merged_outer.drop_duplicates(subset='Resort', keep='first')\n",
    "merged_outer.reset_index(drop=True, inplace=True)\n",
    "\n",
    "# Merge refined dataset with second Kaggle dataset\n",
    "merged_inner1 = pd.merge(merged_outer, Kaggle1, on='Resort', how='left')\n",
    "\n",
    "# Drop unnecessary columns after merging to focus on relevant data\n",
    "merged_inner2 = merged_inner1.drop(columns=['url', 'location_coordinate', 'location_region', 'Continent', \n",
    "                                            'Country', 'Longitude', 'Latitude', 'ID', 'number_of_matches'])"
   ]
  },
  {
   "cell_type": "code",
   "execution_count": null,
   "id": "1f07a118-db06-424e-875a-0a5867d7d11b",
   "metadata": {},
   "outputs": [],
   "source": [
    "# Save current DataFrame to CSV file \n",
    "merged_inner2.to_csv('completeresort.csv', index=False)\n",
    "\n",
    "print(\"Resort dataset created. Continue to next steps to merge resort data with relevant athlete data.\")"
   ]
  },
  {
   "cell_type": "code",
   "execution_count": 14,
   "id": "f99d4608-9bf7-40af-947f-04676a3de58a",
   "metadata": {},
   "outputs": [],
   "source": [
    "# Load pre-made dataset \n",
    "allUSskiers = pd.read_csv('all_US_skiers.csv') \n",
    "\n",
    "# Standardize Skiclub names for consistency to avoid merging issues\n",
    "allUSskiers.loc[allUSskiers['Skiclub'] == 'Aspen Valley ski and Snowboard Club', 'Skiclub'] = 'Aspen Valley Ski and Snowboard Club'\n",
    "allUSskiers.loc[allUSskiers['Skiclub'] == 'Winter Park Competition Center', 'Skiclub'] = 'Winter Park competition center'"
   ]
  },
  {
   "cell_type": "code",
   "execution_count": 15,
   "id": "1d8a8d99-c458-499b-a4fb-d77fac0f0b26",
   "metadata": {},
   "outputs": [],
   "source": [
    "# Load previously saved resort data\n",
    "completeresort = pd.read_csv('completeresort.csv') \n",
    "\n",
    "# Merge skier and resort datasets on 'Skiclub' column (outer join to keep all records from both datasets)\n",
    "merged_inner = pd.merge(allUSskiers, completeresort, on='Skiclub', how = 'outer')"
   ]
  },
  {
   "cell_type": "code",
   "execution_count": 16,
   "id": "e34a99f2-84d3-4006-8d20-d47feb7d2721",
   "metadata": {},
   "outputs": [],
   "source": [
    "# Define the columns we need to focus on for the analysis\n",
    "columns_to_select = [\n",
    "    'Competitorname', 'Skiclub', 'HPpoints', 'HPpos', 'state_data', 'region_data',\n",
    "    'Resort', 'rank', 'rating', 'elevation_top_m', 'elevation_difference_m',\n",
    "    'number_of_lifts', 'number_of_slopes', 'annual_snowfall_cm', 'Price', 'Season', \n",
    "    'Beginner slopes', 'Intermediate slopes', 'Difficult slopes', 'Nightskiing', 'Summer skiing'\n",
    "]\n",
    "\n",
    "# Create a new DataFrame\n",
    "selected_columns_df = merged_inner[columns_to_select]"
   ]
  },
  {
   "cell_type": "code",
   "execution_count": 17,
   "id": "7fda2138-0b9a-4d14-afe6-4cd5a576a295",
   "metadata": {},
   "outputs": [],
   "source": [
    "# Sort the new DataFrame by 'HPpos' in ascending order to rank competitors by position\n",
    "sorted_by_hp_pos = selected_columns_df.sort_values(by='HPpos', ascending=True)\n",
    "\n",
    "sorted_by_hp_pos.reset_index(drop=True, inplace=True) # Reset index\n",
    "\n",
    "# Remove rows where the 'Resort' column has missing values\n",
    "sorted_by_hp_pos = sorted_by_hp_pos.dropna(subset=['Resort'])"
   ]
  },
  {
   "cell_type": "code",
   "execution_count": 21,
   "id": "cbf0e5f9-5950-4b50-92ea-367516fd7c30",
   "metadata": {},
   "outputs": [],
   "source": [
    "# List of columns where values will be set to NaN for rows with 'Sun Valley Resort'\n",
    "columns_to_nullify = [\n",
    "    'rank', 'rating', 'elevation_top_m', 'elevation_difference_m',\n",
    "    'number_of_lifts', 'number_of_slopes', 'annual_snowfall_cm', 'Price', \n",
    "    'Season', 'Beginner slopes', 'Intermediate slopes', \n",
    "    'Difficult slopes', 'Nightskiing', 'Summer skiing'\n",
    "]\n",
    "\n",
    "# Set specified columns to NaN in rows where the 'Resort' is 'Sun Valley Resort'\n",
    "sorted_by_hp_pos.loc[sorted_by_hp_pos['Resort'] == 'Sun Valley Resort', columns_to_nullify] = np.nan\n",
    "\n",
    "# Define a final list of columns to use for the analysis\n",
    "columns_to_select = [\n",
    "    'Resort', 'HPpoints', 'HPpos', 'state_data', 'region_data', 'elevation_top_m',\n",
    "    'number_of_slopes', 'annual_snowfall_cm', 'Price', 'Beginner slopes', \n",
    "    'Intermediate slopes', 'Difficult slopes', 'Nightskiing', 'Summer skiing'\n",
    "]\n",
    "\n",
    "# Create a DataFrame with the final set of columns, dropping rows with any missing values\n",
    "selected_columns_df = merged_inner[columns_to_select].dropna()"
   ]
  },
  {
   "cell_type": "code",
   "execution_count": null,
   "id": "7fcd41f1-4901-4fb9-a87a-f0efc8ab884e",
   "metadata": {},
   "outputs": [],
   "source": [
    "# Save the dataset to a new CSV file\n",
    "selected_columns_df.to_csv('resort_with_athletes.csv', index=False)\n",
    "\n",
    "print(\"Final dataset created with all US halfpipe skiers' resort data with resort details.\")"
   ]
  }
 ],
 "metadata": {
  "kernelspec": {
   "display_name": "Python 3 (ipykernel)",
   "language": "python",
   "name": "python3"
  },
  "language_info": {
   "codemirror_mode": {
    "name": "ipython",
    "version": 3
   },
   "file_extension": ".py",
   "mimetype": "text/x-python",
   "name": "python",
   "nbconvert_exporter": "python",
   "pygments_lexer": "ipython3",
   "version": "3.12.6"
  }
 },
 "nbformat": 4,
 "nbformat_minor": 5
}
