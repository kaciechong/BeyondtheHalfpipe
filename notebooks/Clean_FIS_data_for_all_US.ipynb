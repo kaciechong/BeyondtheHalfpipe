{
 "cells": [
  {
   "cell_type": "code",
   "execution_count": null,
   "id": "ad3c0021-1da2-402d-b2f9-4aeb6bbcf456",
   "metadata": {},
   "outputs": [],
   "source": [
    "#### Import libraries:\n",
    "\n",
    "import pandas as pd"
   ]
  },
  {
   "cell_type": "code",
   "execution_count": null,
   "id": "23917fa4-6f67-4fe0-a17d-1cf8d6b63a8d",
   "metadata": {},
   "outputs": [],
   "source": [
    "#### Create a dataset of all US team halfpipe skiers with relevant data: "
   ]
  },
  {
   "cell_type": "code",
   "execution_count": null,
   "id": "b422284e-c87d-4c6e-bfe5-7c99c0ccf874",
   "metadata": {},
   "outputs": [],
   "source": [
    "# Load FIS data (CSV file)\n",
    "dataFrame = pd.read_csv('path/to/fis_data.csv')"
   ]
  },
  {
   "cell_type": "code",
   "execution_count": null,
   "id": "36cf60e2-0f9c-404c-8f7d-cd76388ac665",
   "metadata": {},
   "outputs": [],
   "source": [
    "# Select relevant columns\n",
    "filtered_data = dataFrame[['Competitorid', 'Competitorname', 'Gender', 'Nationcode', 'Skiclub', 'HPpoints', 'HPpos']]\n",
    "\n",
    "# Remove rows with missing values\n",
    "HP = filtered_data.dropna(subset=['Competitorid', 'Competitorname', 'Gender', 'Nationcode', 'Skiclub', 'HPpoints', 'HPpos'])\n",
    "\n",
    "# Filter to include only US competitors\n",
    "usa = HP[HP['Nationcode'] == 'USA']\n",
    "\n",
    "# Sort by HPpoints in descending order\n",
    "df_sorted = usa.sort_values(by='HPpoints', ascending=False)\n",
    "\n",
    "# Save the cleaned dataset to a new CSV file\n",
    "df_sorted.to_csv('allUSskiers.csv', index=False)\n",
    "\n",
    "print(\"Dataset created with all US halfpipe skiers.\")"
   ]
  }
 ],
 "metadata": {
  "kernelspec": {
   "display_name": "Python 3 (ipykernel)",
   "language": "python",
   "name": "python3"
  },
  "language_info": {
   "codemirror_mode": {
    "name": "ipython",
    "version": 3
   },
   "file_extension": ".py",
   "mimetype": "text/x-python",
   "name": "python",
   "nbconvert_exporter": "python",
   "pygments_lexer": "ipython3",
   "version": "3.12.6"
  }
 },
 "nbformat": 4,
 "nbformat_minor": 5
}
