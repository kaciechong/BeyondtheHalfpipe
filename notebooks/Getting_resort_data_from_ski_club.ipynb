{
 "cells": [
  {
   "cell_type": "code",
   "execution_count": 1,
   "id": "cd4b1170-0d4c-41fa-b6e2-e8da981686f7",
   "metadata": {},
   "outputs": [],
   "source": [
    "#### Import libraries:\n",
    "\n",
    "import pandas as pd"
   ]
  },
  {
   "cell_type": "code",
   "execution_count": null,
   "id": "fb29f5cd-ae45-4519-ad8d-815c4b28a1b4",
   "metadata": {},
   "outputs": [],
   "source": [
    "#### Create a dataset of the resorts associated with the ski clubs of all US team halfpipe skiers: "
   ]
  },
  {
   "cell_type": "code",
   "execution_count": 5,
   "id": "e3b15f31-2d98-4cfe-bb18-059dcb34495d",
   "metadata": {},
   "outputs": [],
   "source": [
    "# Load FIS data (CSV file)\n",
    "df = pd.read_csv('/Users/kaciechong/Desktop/all_US_skiers.csv')\n",
    "\n",
    "# Get unique ski clubs to ensure each club is represented once\n",
    "unique_skiclubs = df[['Skiclub']].drop_duplicates()\n",
    "\n",
    "# Filter out entries with inconsistent capitalization in ski club names\n",
    "df_filtered = unique_skiclubs[unique_skiclubs['Skiclub'] != \"Aspen Valley ski and Snowboard Club\"] \n",
    "\n",
    "df_filtered.reset_index(drop=True, inplace=True)  # Reset index\n"
   ]
  },
  {
   "cell_type": "code",
   "execution_count": null,
   "id": "28a0c588-eb00-4606-a587-0a9b78c56a48",
   "metadata": {},
   "outputs": [],
   "source": [
    "# Define list of US states associated with each ski club (in order)\n",
    "state_data = ['Colorado', 'Vermont', 'California', 'Oregon', 'Idaho', 'Colorado', 'Colorado', 'California', \n",
    "              'Colorado', 'Colorado', 'Utah', 'Colorado', 'New Hampshire', 'Oregon', 'Vermont', 'Colorado', \n",
    "              'Colorado', 'California', 'Colorado', 'California', 'Montana']\n",
    "\n",
    "# Define list of regions associated with each ski club (in order)\n",
    "region_data = ['Rocky Mountain', 'Northeast', 'Pacific Southwest', 'Pacific Northwest', 'Pacific Northwest', \n",
    "               'Rocky Mountain', 'Rocky Mountain', 'Pacific Southwest', 'Rocky Mountain', 'Rocky Mountain', \n",
    "               'Rocky Mountain', 'Rocky Mountain', 'Northeast', 'Pacific Northwest', 'Northeast', \n",
    "               'Rocky Mountain', 'Rocky Mountain', 'Pacific Southwest', 'Rocky Mountain', 'Pacific Southwest', \n",
    "               'Rocky Mountain']\n",
    "\n",
    "# Define list of ski resorts associated with each ski club (in order)\n",
    "resort = ['Copper Mountain Resort', 'Killington Resort', 'Sierra-at-Tahoe', 'Mt. Hood Meadows', 'Sun Valley Resort',\n",
    "          'Crested Butte Mountain Resort', 'Vail Mountain, Beaver Creek Resort', 'Mammoth Mountain Ski Area', \n",
    "          'Winter Park Resort', 'Telluride Ski & Golf Resort', 'Park City Mountain Resort', 'Aspen Mountain', \n",
    "          'Waterville Valley Resort', 'Mt. Bachelor LLC', 'Okemo Mountain Resort', 'Winter Park Resort', \n",
    "          'Vail Mountain', 'Squaw Valley / Alpine Meadows', 'Mobile', 'Northstar California', 'Montana Snowbowl']"
   ]
  },
  {
   "cell_type": "code",
   "execution_count": null,
   "id": "5be1756e-588a-466d-9a6a-00783a618342",
   "metadata": {},
   "outputs": [],
   "source": [
    "# Add state, region, and resort data as new columns to df_filtered\n",
    "df_filtered['state_data'] = state_data\n",
    "df_filtered['region_data'] = region_data\n",
    "df_filtered['resort'] = resort"
   ]
  },
  {
   "cell_type": "code",
   "execution_count": null,
   "id": "57ee3db7-3a29-4762-925a-a12f3eb111a9",
   "metadata": {},
   "outputs": [],
   "source": [
    "# Save the resort data DataFrame to CSV file (without index)\n",
    "df_filtered.to_csv('resortdata.csv', index=False)\n",
    "\n",
    "print(\"Resort dataset created.\")"
   ]
  }
 ],
 "metadata": {
  "kernelspec": {
   "display_name": "Python 3 (ipykernel)",
   "language": "python",
   "name": "python3"
  },
  "language_info": {
   "codemirror_mode": {
    "name": "ipython",
    "version": 3
   },
   "file_extension": ".py",
   "mimetype": "text/x-python",
   "name": "python",
   "nbconvert_exporter": "python",
   "pygments_lexer": "ipython3",
   "version": "3.12.6"
  }
 },
 "nbformat": 4,
 "nbformat_minor": 5
}
